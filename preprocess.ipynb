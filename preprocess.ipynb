{
 "cells": [
  {
   "cell_type": "code",
   "execution_count": 3,
   "metadata": {},
   "outputs": [
    {
     "name": "stdout",
     "output_type": "stream",
     "text": [
      "Requirement already satisfied: pandas in c:\\tree-failure-analysis\\.venv\\lib\\site-packages (2.2.3)\n",
      "Requirement already satisfied: numpy>=1.26.0 in c:\\tree-failure-analysis\\.venv\\lib\\site-packages (from pandas) (1.26.4)\n",
      "Requirement already satisfied: python-dateutil>=2.8.2 in c:\\tree-failure-analysis\\.venv\\lib\\site-packages (from pandas) (2.9.0.post0)\n",
      "Requirement already satisfied: pytz>=2020.1 in c:\\tree-failure-analysis\\.venv\\lib\\site-packages (from pandas) (2025.1)\n",
      "Requirement already satisfied: tzdata>=2022.7 in c:\\tree-failure-analysis\\.venv\\lib\\site-packages (from pandas) (2025.1)\n",
      "Requirement already satisfied: six>=1.5 in c:\\tree-failure-analysis\\.venv\\lib\\site-packages (from python-dateutil>=2.8.2->pandas) (1.16.0)\n",
      "Note: you may need to restart the kernel to use updated packages.\n"
     ]
    },
    {
     "name": "stderr",
     "output_type": "stream",
     "text": [
      "\n",
      "[notice] A new release of pip is available: 25.0.1 -> 25.1.1\n",
      "[notice] To update, run: python.exe -m pip install --upgrade pip\n"
     ]
    }
   ],
   "source": [
    "%pip install pandas"
   ]
  },
  {
   "cell_type": "code",
   "execution_count": 4,
   "metadata": {},
   "outputs": [
    {
     "name": "stdout",
     "output_type": "stream",
     "text": [
      "ObjectID                              0\n",
      "Tree Species                          0\n",
      "Diameter of Tree                      0\n",
      "Height of Tree                        0\n",
      "Condition                             0\n",
      "Site Factors                          0\n",
      "Type of Soil                          0\n",
      "Weather factors                       0\n",
      "Diameter of Failed Part               0\n",
      "Length of Failed Part                 0\n",
      "Failed Part                           0\n",
      "Root Failure                          0\n",
      "Stem Failure                          0\n",
      "Branch Failure                        0\n",
      "Location and Percentage of Decay      0\n",
      "Decay Present                         0\n",
      "Other.1                             503\n",
      "dtype: int64\n"
     ]
    }
   ],
   "source": [
    "import pandas as pd\n",
    "\n",
    "dat = pd.read_csv(\"unprocessed/PNWTFDB_2018_0_503points.csv\")\n",
    "\n",
    "dropped = [\n",
    "    \"GlobalID\",\n",
    "    \"Date of Failure\",\n",
    "    \"Other\",\n",
    "    \"CreationDate\",\n",
    "    \"Creator\",\n",
    "    \"EditDate\",\n",
    "    \"Editor\",\n",
    "    \"Care Factors\",\n",
    "    \"x\",\n",
    "    \"y\"\n",
    "]\n",
    "dat = dat.drop(columns=dropped, axis=1)\n",
    "\n",
    "fill_none = [\n",
    "    \"Site Factors\",\n",
    "    \"Root Failure\",\n",
    "    \"Stem Failure\",\n",
    "    \"Branch Failure\",\n",
    "    \"Location and Percentage of Decay\",\n",
    "    \"Weather factors\",\n",
    "    \"Decay Present\"\n",
    "]\n",
    "\n",
    "dat[\"Type of Soil\"] = dat[\"Type of Soil\"].fillna(value=\"Dirt\")\n",
    "dat.loc[:, fill_none] = dat[fill_none].fillna(\"None\")\n",
    "\n",
    "dat['Length of Failed Part'] = dat.groupby(['Failed Part', 'Tree Species'])['Length of Failed Part'].transform( lambda x: x.fillna(x.mean()))\n",
    "dat['Length of Failed Part'] = dat.groupby(['Failed Part'])['Length of Failed Part'].transform( lambda x: x.fillna(x.mean()))\n",
    "\n",
    "# find nan values\n",
    "print(dat.isna().sum())\n",
    "\n",
    "dat.to_csv('treedata.csv', index=False)"
   ]
  }
 ],
 "metadata": {
  "kernelspec": {
   "display_name": ".venv",
   "language": "python",
   "name": "python3"
  },
  "language_info": {
   "codemirror_mode": {
    "name": "ipython",
    "version": 3
   },
   "file_extension": ".py",
   "mimetype": "text/x-python",
   "name": "python",
   "nbconvert_exporter": "python",
   "pygments_lexer": "ipython3",
   "version": "3.12.1"
  }
 },
 "nbformat": 4,
 "nbformat_minor": 2
}
